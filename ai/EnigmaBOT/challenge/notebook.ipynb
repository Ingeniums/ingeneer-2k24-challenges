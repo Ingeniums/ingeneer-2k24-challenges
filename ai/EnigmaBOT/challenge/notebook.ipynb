{
 "cells": [
  {
   "cell_type": "markdown",
   "metadata": {},
   "source": [
    "# EnigmaBOT"
   ]
  },
  {
   "cell_type": "markdown",
   "metadata": {},
   "source": [
    "You've been newly recruited into a secret government agency in a post-apocalyptic world ravaged by a devastating zombie outbreak. Your agency has intercepted an `encrypted transmission` from a rival faction suspected of harboring critical information about the origins of the virus and potential treatments.\n",
    "<br /> <br />\n",
    "However, the encryption used in this transmission is unlike anything your group has encountered before. It appears to be based on an intricate system of linguistic patterns and statistical anomalies, rendering traditional decryption methods useless.\n",
    "<br /> <br />\n",
    "Fortunately, your group has recently acquired a secret technology `EnigmaBOT`, a pre-trained language model that has been exposed to a vast corpus of text spanning medical research, scientific literature, and classified government documents related to viral outbreaks and bioweapons."
   ]
  },
  {
   "cell_type": "markdown",
   "metadata": {},
   "source": [
    "Your mission is to leverage this pre-trained model's capabilities to decipher the encrypted transmission and uncover any insights or clues that could lead to a cure or a better understanding of the virus."
   ]
  },
  {
   "cell_type": "markdown",
   "metadata": {},
   "source": [
    "- Encrypted transmission: `9Zx4Qp 8Yw3Po 7Xv2On 6Wu1Nm 5Vt0Ml 4Us9Lk 3Tr8Kj 2Sq7Ji`"
   ]
  },
  {
   "cell_type": "markdown",
   "metadata": {},
   "source": [
    "## Import necessary libraries"
   ]
  },
  {
   "cell_type": "markdown",
   "metadata": {},
   "source": [
    "If you have any missing libraries, you can install them by running the following command in your terminal or command prompt (Make sure you have pip installed): `pip install library1 library2`"
   ]
  },
  {
   "cell_type": "code",
   "execution_count": 1,
   "metadata": {},
   "outputs": [],
   "source": [
    "import torch\n",
    "from torch import nn"
   ]
  },
  {
   "cell_type": "code",
   "execution_count": 2,
   "metadata": {},
   "outputs": [],
   "source": [
    "import warnings\n",
    "warnings.filterwarnings('ignore')"
   ]
  },
  {
   "cell_type": "markdown",
   "metadata": {},
   "source": [
    "## RNN model class"
   ]
  },
  {
   "cell_type": "markdown",
   "metadata": {},
   "source": [
    "The following code should allow you to load the enigmabot model"
   ]
  },
  {
   "cell_type": "code",
   "execution_count": 3,
   "metadata": {},
   "outputs": [],
   "source": [
    "class ENIGMABOT(nn.Module):\n",
    "    def __init__(self):\n",
    "        super(ENIGMABOT, self).__init__()\n",
    "\n",
    "        self.embedding = nn.Embedding(256, 32)\n",
    "        self.lstm = nn.LSTM(32,128, 2, batch_first=True, dropout=.1)\n",
    "        self.fc = nn.Sequential(\n",
    "            nn.Linear(128, 128),\n",
    "            nn.LayerNorm(128),\n",
    "            nn.ELU(),\n",
    "            nn.Linear(128, 256)\n",
    "        )\n",
    "\n",
    "    def forward(self, input):\n",
    "        embedded = self.embedding(input)\n",
    "        output = self.lstm(embedded)[0][:,-1,:]\n",
    "        prediction = self.fc(output)\n",
    "        return prediction"
   ]
  },
  {
   "cell_type": "code",
   "execution_count": null,
   "metadata": {},
   "outputs": [],
   "source": [
    "model = ENIGMABOT()\n",
    "model.load_state_dict(torch.load(\"enigmabot_model.pt\"))"
   ]
  },
  {
   "cell_type": "markdown",
   "metadata": {},
   "source": [
    "## Solution"
   ]
  },
  {
   "cell_type": "code",
   "execution_count": null,
   "metadata": {},
   "outputs": [],
   "source": [
    "# Write your code here..."
   ]
  },
  {
   "cell_type": "markdown",
   "metadata": {},
   "source": [
    "## "
   ]
  }
 ],
 "metadata": {
  "kernelspec": {
   "display_name": "Python 3",
   "language": "python",
   "name": "python3"
  },
  "language_info": {
   "codemirror_mode": {
    "name": "ipython",
    "version": 3
   },
   "file_extension": ".py",
   "mimetype": "text/x-python",
   "name": "python",
   "nbconvert_exporter": "python",
   "pygments_lexer": "ipython3",
   "version": "3.12.1"
  }
 },
 "nbformat": 4,
 "nbformat_minor": 2
}
