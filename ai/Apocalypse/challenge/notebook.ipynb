{
 "cells": [
  {
   "cell_type": "markdown",
   "metadata": {},
   "source": [
    "# Apocalypse"
   ]
  },
  {
   "cell_type": "markdown",
   "metadata": {},
   "source": [
    "In the aftermath of a catastrophic event that decimated civilization, you find yourself trapped within the confines of an abandoned suburban community. The streets are deserted, the once-pristine homes now dilapidated shells overrun by the undead. Your haven is a fortified shelter, offering a modicum of safety from the ravenous hordes that roam the ruins. \n",
    "<br/> <br/>\n",
    "Amidst the chaos, you've gained access to a database containing vital information about the survivors scattered throughout the neighboring residences. This database holds the key to your survival, as some of these survivors could become valuable allies in your quest for freedom. \n",
    "<br/> <br/>\n",
    "Your task is to analyze this data and determine which residences harbor survivors that could become valuable allies. However, some residences may be occupied by the undead, posing a grave threat to your safety. \n",
    "<br/> <br/>\n",
    "To complete the challenge, you must use the provided information about people living in there to establish contact with at least 10 human survivors while ensuring you do not contact any undead. Your solution will be represented as a string of `1s` and `0s`, where a `1` indicates `contact with the this person` and a `0` means `do not contct with this person`.\n",
    "<br/> <br/>\n",
    "For example, if there were 40 residences, and you wanted to contact with the occupents of the first two, the fourth, the seventh and the nineth residences, your solution would be represented as: `11010010100000000000000000000000000000000`\n",
    "<br/> <br/>\n"
   ]
  },
  {
   "cell_type": "markdown",
   "metadata": {},
   "source": [
    "`Note`: Brute-forcing the solution by trying multiple possibilities won't be an effective approach, as you have a limited number of attempts. You only have `10 lives (attempts)` to submit your solution for this challenge. After exhausting those 10 attempts, you won't be able to submit further solutions. "
   ]
  },
  {
   "cell_type": "markdown",
   "metadata": {},
   "source": [
    "## Import necessary libraries"
   ]
  },
  {
   "cell_type": "markdown",
   "metadata": {},
   "source": [
    "If you have any missing libraries, you can install them by running the following command in your terminal or command prompt (Make sure you have pip installed): `pip install library1 library2`"
   ]
  },
  {
   "cell_type": "code",
   "execution_count": 116,
   "metadata": {},
   "outputs": [],
   "source": [
    "import pandas as pd, seaborn as sns, matplotlib.pyplot as plt\n",
    "from sklearn.pipeline import Pipeline\n",
    "from sklearn.preprocessing import LabelEncoder\n",
    "from sklearn.linear_model import LogisticRegression\n",
    "from sklearn.preprocessing import StandardScaler"
   ]
  },
  {
   "cell_type": "markdown",
   "metadata": {},
   "source": [
    "## Loading the data"
   ]
  },
  {
   "cell_type": "markdown",
   "metadata": {},
   "source": [
    "Your are provided with two sets of data: `train_set.csv` and `test_set.csv`, let's upload both of them by reading the CSV files!"
   ]
  },
  {
   "cell_type": "code",
   "execution_count": 117,
   "metadata": {},
   "outputs": [],
   "source": [
    "# That's how you load a dataset from a CSV file buddy :)\n",
    "\n",
    "train_set = pd.read_csv('data/train_set.csv') # set used to train the model\n",
    "test_set = pd.read_csv('data/test_set.csv') # set used to test the model"
   ]
  },
  {
   "cell_type": "markdown",
   "metadata": {},
   "source": [
    "## Dataset Description"
   ]
  },
  {
   "cell_type": "markdown",
   "metadata": {},
   "source": [
    "Now, I'll introduce to you some data exploration techniques to understand the data structure!"
   ]
  },
  {
   "cell_type": "markdown",
   "metadata": {},
   "source": [
    "- Displaying top 5 rows of each set"
   ]
  },
  {
   "cell_type": "code",
   "execution_count": 118,
   "metadata": {},
   "outputs": [
    {
     "data": {
      "text/html": [
       "<div>\n",
       "<style scoped>\n",
       "    .dataframe tbody tr th:only-of-type {\n",
       "        vertical-align: middle;\n",
       "    }\n",
       "\n",
       "    .dataframe tbody tr th {\n",
       "        vertical-align: top;\n",
       "    }\n",
       "\n",
       "    .dataframe thead th {\n",
       "        text-align: right;\n",
       "    }\n",
       "</style>\n",
       "<table border=\"1\" class=\"dataframe\">\n",
       "  <thead>\n",
       "    <tr style=\"text-align: right;\">\n",
       "      <th></th>\n",
       "      <th>ID</th>\n",
       "      <th>sex</th>\n",
       "      <th>age</th>\n",
       "      <th>household</th>\n",
       "      <th>rurality</th>\n",
       "      <th>water (l)</th>\n",
       "      <th>food</th>\n",
       "      <th>medication</th>\n",
       "      <th>tools</th>\n",
       "      <th>firstaid</th>\n",
       "      <th>sanitation</th>\n",
       "      <th>clothing</th>\n",
       "      <th>documents</th>\n",
       "      <th>status</th>\n",
       "    </tr>\n",
       "  </thead>\n",
       "  <tbody>\n",
       "    <tr>\n",
       "      <th>0</th>\n",
       "      <td>47</td>\n",
       "      <td>Female</td>\n",
       "      <td>32</td>\n",
       "      <td>3</td>\n",
       "      <td>Urban</td>\n",
       "      <td>16</td>\n",
       "      <td>Food</td>\n",
       "      <td>No medication</td>\n",
       "      <td>No tools</td>\n",
       "      <td>No first aid supplies</td>\n",
       "      <td>Sanitation</td>\n",
       "      <td>Clothing</td>\n",
       "      <td>NaN</td>\n",
       "      <td>Human</td>\n",
       "    </tr>\n",
       "    <tr>\n",
       "      <th>1</th>\n",
       "      <td>77</td>\n",
       "      <td>Male</td>\n",
       "      <td>42</td>\n",
       "      <td>3</td>\n",
       "      <td>Urban</td>\n",
       "      <td>0</td>\n",
       "      <td>No food</td>\n",
       "      <td>Medication</td>\n",
       "      <td>tools</td>\n",
       "      <td>First aid supplies</td>\n",
       "      <td>Sanitation</td>\n",
       "      <td>Clothing</td>\n",
       "      <td>Documents</td>\n",
       "      <td>Human</td>\n",
       "    </tr>\n",
       "    <tr>\n",
       "      <th>2</th>\n",
       "      <td>187</td>\n",
       "      <td>Male</td>\n",
       "      <td>18</td>\n",
       "      <td>3</td>\n",
       "      <td>Urban</td>\n",
       "      <td>0</td>\n",
       "      <td>No food</td>\n",
       "      <td>No medication</td>\n",
       "      <td>No tools</td>\n",
       "      <td>No first aid supplies</td>\n",
       "      <td>Sanitation</td>\n",
       "      <td>Clothing</td>\n",
       "      <td>Documents</td>\n",
       "      <td>Undead</td>\n",
       "    </tr>\n",
       "    <tr>\n",
       "      <th>3</th>\n",
       "      <td>179</td>\n",
       "      <td>Female</td>\n",
       "      <td>59</td>\n",
       "      <td>3</td>\n",
       "      <td>Rural</td>\n",
       "      <td>0</td>\n",
       "      <td>No food</td>\n",
       "      <td>No medication</td>\n",
       "      <td>tools</td>\n",
       "      <td>No first aid supplies</td>\n",
       "      <td>No sanitation</td>\n",
       "      <td>Clothing</td>\n",
       "      <td>NaN</td>\n",
       "      <td>Undead</td>\n",
       "    </tr>\n",
       "    <tr>\n",
       "      <th>4</th>\n",
       "      <td>195</td>\n",
       "      <td>Female</td>\n",
       "      <td>67</td>\n",
       "      <td>2</td>\n",
       "      <td>Suburban</td>\n",
       "      <td>0</td>\n",
       "      <td>No food</td>\n",
       "      <td>No medication</td>\n",
       "      <td>No tools</td>\n",
       "      <td>No first aid supplies</td>\n",
       "      <td>No sanitation</td>\n",
       "      <td>NaN</td>\n",
       "      <td>NaN</td>\n",
       "      <td>Undead</td>\n",
       "    </tr>\n",
       "  </tbody>\n",
       "</table>\n",
       "</div>"
      ],
      "text/plain": [
       "    ID     sex  age  household  rurality  water (l)     food     medication  \\\n",
       "0   47  Female   32          3     Urban         16     Food  No medication   \n",
       "1   77    Male   42          3     Urban          0  No food     Medication   \n",
       "2  187    Male   18          3     Urban          0  No food  No medication   \n",
       "3  179  Female   59          3     Rural          0  No food  No medication   \n",
       "4  195  Female   67          2  Suburban          0  No food  No medication   \n",
       "\n",
       "      tools               firstaid     sanitation  clothing  documents  status  \n",
       "0  No tools  No first aid supplies     Sanitation  Clothing        NaN   Human  \n",
       "1     tools     First aid supplies     Sanitation  Clothing  Documents   Human  \n",
       "2  No tools  No first aid supplies     Sanitation  Clothing  Documents  Undead  \n",
       "3     tools  No first aid supplies  No sanitation  Clothing        NaN  Undead  \n",
       "4  No tools  No first aid supplies  No sanitation       NaN        NaN  Undead  "
      ]
     },
     "execution_count": 118,
     "metadata": {},
     "output_type": "execute_result"
    }
   ],
   "source": [
    "train_set.head(n=5)"
   ]
  },
  {
   "cell_type": "code",
   "execution_count": 119,
   "metadata": {},
   "outputs": [
    {
     "data": {
      "text/html": [
       "<div>\n",
       "<style scoped>\n",
       "    .dataframe tbody tr th:only-of-type {\n",
       "        vertical-align: middle;\n",
       "    }\n",
       "\n",
       "    .dataframe tbody tr th {\n",
       "        vertical-align: top;\n",
       "    }\n",
       "\n",
       "    .dataframe thead th {\n",
       "        text-align: right;\n",
       "    }\n",
       "</style>\n",
       "<table border=\"1\" class=\"dataframe\">\n",
       "  <thead>\n",
       "    <tr style=\"text-align: right;\">\n",
       "      <th></th>\n",
       "      <th>ID</th>\n",
       "      <th>sex</th>\n",
       "      <th>age</th>\n",
       "      <th>household</th>\n",
       "      <th>rurality</th>\n",
       "      <th>water (l)</th>\n",
       "      <th>food</th>\n",
       "      <th>medication</th>\n",
       "      <th>tools</th>\n",
       "      <th>firstaid</th>\n",
       "      <th>sanitation</th>\n",
       "      <th>clothing</th>\n",
       "      <th>documents</th>\n",
       "    </tr>\n",
       "  </thead>\n",
       "  <tbody>\n",
       "    <tr>\n",
       "      <th>0</th>\n",
       "      <td>36</td>\n",
       "      <td>Female</td>\n",
       "      <td>28</td>\n",
       "      <td>1</td>\n",
       "      <td>Rural</td>\n",
       "      <td>0</td>\n",
       "      <td>Food</td>\n",
       "      <td>Medication</td>\n",
       "      <td>tools</td>\n",
       "      <td>No first aid supplies</td>\n",
       "      <td>Sanitation</td>\n",
       "      <td>Clothing</td>\n",
       "      <td>Documents</td>\n",
       "    </tr>\n",
       "    <tr>\n",
       "      <th>1</th>\n",
       "      <td>148</td>\n",
       "      <td>Female</td>\n",
       "      <td>64</td>\n",
       "      <td>2</td>\n",
       "      <td>Suburban</td>\n",
       "      <td>0</td>\n",
       "      <td>Food</td>\n",
       "      <td>Medication</td>\n",
       "      <td>No tools</td>\n",
       "      <td>No first aid supplies</td>\n",
       "      <td>No sanitation</td>\n",
       "      <td>Clothing</td>\n",
       "      <td>NaN</td>\n",
       "    </tr>\n",
       "    <tr>\n",
       "      <th>2</th>\n",
       "      <td>90</td>\n",
       "      <td>Female</td>\n",
       "      <td>48</td>\n",
       "      <td>2</td>\n",
       "      <td>Suburban</td>\n",
       "      <td>0</td>\n",
       "      <td>Food</td>\n",
       "      <td>Medication</td>\n",
       "      <td>No tools</td>\n",
       "      <td>First aid supplies</td>\n",
       "      <td>No sanitation</td>\n",
       "      <td>Clothing</td>\n",
       "      <td>NaN</td>\n",
       "    </tr>\n",
       "    <tr>\n",
       "      <th>3</th>\n",
       "      <td>65</td>\n",
       "      <td>Female</td>\n",
       "      <td>37</td>\n",
       "      <td>4</td>\n",
       "      <td>Rural</td>\n",
       "      <td>40</td>\n",
       "      <td>Food</td>\n",
       "      <td>Medication</td>\n",
       "      <td>No tools</td>\n",
       "      <td>First aid supplies</td>\n",
       "      <td>Sanitation</td>\n",
       "      <td>Clothing</td>\n",
       "      <td>NaN</td>\n",
       "    </tr>\n",
       "    <tr>\n",
       "      <th>4</th>\n",
       "      <td>165</td>\n",
       "      <td>Male</td>\n",
       "      <td>40</td>\n",
       "      <td>3</td>\n",
       "      <td>Urban</td>\n",
       "      <td>0</td>\n",
       "      <td>No food</td>\n",
       "      <td>No medication</td>\n",
       "      <td>No tools</td>\n",
       "      <td>First aid supplies</td>\n",
       "      <td>No sanitation</td>\n",
       "      <td>Clothing</td>\n",
       "      <td>NaN</td>\n",
       "    </tr>\n",
       "  </tbody>\n",
       "</table>\n",
       "</div>"
      ],
      "text/plain": [
       "    ID     sex  age  household  rurality  water (l)     food     medication  \\\n",
       "0   36  Female   28          1     Rural          0     Food     Medication   \n",
       "1  148  Female   64          2  Suburban          0     Food     Medication   \n",
       "2   90  Female   48          2  Suburban          0     Food     Medication   \n",
       "3   65  Female   37          4     Rural         40     Food     Medication   \n",
       "4  165    Male   40          3     Urban          0  No food  No medication   \n",
       "\n",
       "      tools               firstaid     sanitation  clothing  documents  \n",
       "0     tools  No first aid supplies     Sanitation  Clothing  Documents  \n",
       "1  No tools  No first aid supplies  No sanitation  Clothing        NaN  \n",
       "2  No tools     First aid supplies  No sanitation  Clothing        NaN  \n",
       "3  No tools     First aid supplies     Sanitation  Clothing        NaN  \n",
       "4  No tools     First aid supplies  No sanitation  Clothing        NaN  "
      ]
     },
     "execution_count": 119,
     "metadata": {},
     "output_type": "execute_result"
    }
   ],
   "source": [
    "test_set.head(n=5)"
   ]
  },
  {
   "cell_type": "markdown",
   "metadata": {},
   "source": [
    "You can clearly see that the `test_set` is missing a column labeled `status`. This column represents the target variable that you will be predicting after training your model on the train_set."
   ]
  },
  {
   "cell_type": "markdown",
   "metadata": {},
   "source": [
    "- Dataset description"
   ]
  },
  {
   "cell_type": "code",
   "execution_count": 120,
   "metadata": {},
   "outputs": [
    {
     "name": "stdout",
     "output_type": "stream",
     "text": [
      "<class 'pandas.core.frame.DataFrame'>\n",
      "RangeIndex: 160 entries, 0 to 159\n",
      "Data columns (total 14 columns):\n",
      " #   Column      Non-Null Count  Dtype \n",
      "---  ------      --------------  ----- \n",
      " 0   ID          160 non-null    int64 \n",
      " 1   sex         160 non-null    object\n",
      " 2   age         160 non-null    int64 \n",
      " 3   household   160 non-null    int64 \n",
      " 4   rurality    160 non-null    object\n",
      " 5   water (l)   160 non-null    int64 \n",
      " 6   food        160 non-null    object\n",
      " 7   medication  160 non-null    object\n",
      " 8   tools       160 non-null    object\n",
      " 9   firstaid    160 non-null    object\n",
      " 10  sanitation  160 non-null    object\n",
      " 11  clothing    103 non-null    object\n",
      " 12  documents   55 non-null     object\n",
      " 13  status      160 non-null    object\n",
      "dtypes: int64(4), object(10)\n",
      "memory usage: 17.6+ KB\n"
     ]
    }
   ],
   "source": [
    "train_set.info(verbose= True)"
   ]
  },
  {
   "cell_type": "markdown",
   "metadata": {},
   "source": [
    "- Display types of columns : numerical or categorial values"
   ]
  },
  {
   "cell_type": "code",
   "execution_count": 121,
   "metadata": {},
   "outputs": [
    {
     "data": {
      "text/plain": [
       "ID             int64\n",
       "sex           object\n",
       "age            int64\n",
       "household      int64\n",
       "rurality      object\n",
       "water (l)      int64\n",
       "food          object\n",
       "medication    object\n",
       "tools         object\n",
       "firstaid      object\n",
       "sanitation    object\n",
       "clothing      object\n",
       "documents     object\n",
       "status        object\n",
       "dtype: object"
      ]
     },
     "execution_count": 121,
     "metadata": {},
     "output_type": "execute_result"
    }
   ],
   "source": [
    "train_set.dtypes"
   ]
  },
  {
   "cell_type": "markdown",
   "metadata": {},
   "source": [
    "- Dataset shape"
   ]
  },
  {
   "cell_type": "code",
   "execution_count": 122,
   "metadata": {},
   "outputs": [
    {
     "name": "stdout",
     "output_type": "stream",
     "text": [
      "Train set shape: (160, 14)\n",
      "Test set shape: (40, 13)\n"
     ]
    }
   ],
   "source": [
    "print(f'Train set shape: {train_set.shape}') \n",
    "print(f'Test set shape: {test_set.shape}')\n",
    "\n",
    "# Output: (rows, columns)"
   ]
  },
  {
   "cell_type": "markdown",
   "metadata": {},
   "source": [
    "- Value counts of our targer column"
   ]
  },
  {
   "cell_type": "code",
   "execution_count": 123,
   "metadata": {},
   "outputs": [
    {
     "data": {
      "text/plain": [
       "status\n",
       "Human     97\n",
       "Undead    63\n",
       "Name: count, dtype: int64"
      ]
     },
     "execution_count": 123,
     "metadata": {},
     "output_type": "execute_result"
    }
   ],
   "source": [
    "train_set['status'].value_counts()"
   ]
  },
  {
   "cell_type": "code",
   "execution_count": 124,
   "metadata": {},
   "outputs": [
    {
     "data": {
      "text/plain": [
       "<Axes: xlabel='count', ylabel='status'>"
      ]
     },
     "execution_count": 124,
     "metadata": {},
     "output_type": "execute_result"
    },
    {
     "data": {
      "image/png": "[encoded data removed]",
      "text/plain": [
       "<Figure size 640x480 with 1 Axes>"
      ]
     },
     "metadata": {},
     "output_type": "display_data"
    }
   ],
   "source": [
    "sns.countplot(train_set['status'])"
   ]
  },
  {
   "cell_type": "markdown",
   "metadata": {},
   "source": [
    "## Dataset Cleaning"
   ]
  },
  {
   "cell_type": "markdown",
   "metadata": {},
   "source": [
    "In this section we will perform some data cleaning and preprocessing tasks. This is a very important step in the machine learning, as the quality of the data will directly affect the quality of the model."
   ]
  },
  {
   "cell_type": "markdown",
   "metadata": {},
   "source": [
    "- Dropping irrelevant columns (columns that have no sense in the data)"
   ]
  },
  {
   "cell_type": "code",
   "execution_count": 125,
   "metadata": {},
   "outputs": [],
   "source": [
    "# Write a code that drops the 'ID' column from the train_set and test_set\n"
   ]
  },
  {
   "cell_type": "markdown",
   "metadata": {},
   "source": [
    "- Checking if there's any missing values (NaN)"
   ]
  },
  {
   "cell_type": "code",
   "execution_count": 126,
   "metadata": {},
   "outputs": [
    {
     "data": {
      "text/plain": [
       "sex             0\n",
       "age             0\n",
       "household       0\n",
       "rurality        0\n",
       "water (l)       0\n",
       "food            0\n",
       "medication      0\n",
       "tools           0\n",
       "firstaid        0\n",
       "sanitation      0\n",
       "clothing       57\n",
       "documents     105\n",
       "status          0\n",
       "dtype: int64"
      ]
     },
     "execution_count": 126,
     "metadata": {},
     "output_type": "execute_result"
    }
   ],
   "source": [
    "train_set.isna().sum()"
   ]
  },
  {
   "cell_type": "markdown",
   "metadata": {},
   "source": [
    "- Dropping columns with missing values"
   ]
  },
  {
   "cell_type": "code",
   "execution_count": 127,
   "metadata": {},
   "outputs": [],
   "source": [
    "# Write a code that drops columns with missing values from the train_set and test_set\n"
   ]
  },
  {
   "cell_type": "markdown",
   "metadata": {},
   "source": [
    "- Droping duplicated rows (if there's any)"
   ]
  },
  {
   "cell_type": "code",
   "execution_count": 128,
   "metadata": {},
   "outputs": [
    {
     "name": "stdout",
     "output_type": "stream",
     "text": [
      "Number of duplicated rows in the train set: 0\n"
     ]
    }
   ],
   "source": [
    "print(f'Number of duplicated rows in the train set: {train_set.duplicated().sum()}')"
   ]
  },
  {
   "cell_type": "markdown",
   "metadata": {},
   "source": [
    "## Model Training"
   ]
  },
  {
   "cell_type": "markdown",
   "metadata": {},
   "source": [
    "- Separate features and target column"
   ]
  },
  {
   "cell_type": "markdown",
   "metadata": {},
   "source": [
    "Now, we need to separate target column (`y`) from other columns (`X`) in the train set, since our model will take (`X, y`) as arguments for training. This separation ensures that the model learns the relationships between the independent variables (`X`) and the dependent variable (`y`)"
   ]
  },
  {
   "cell_type": "code",
   "execution_count": 129,
   "metadata": {},
   "outputs": [],
   "source": [
    "# Write your code here...\n"
   ]
  },
  {
   "cell_type": "markdown",
   "metadata": {},
   "source": [
    "- Encoding the categorical variables"
   ]
  },
  {
   "cell_type": "markdown",
   "metadata": {},
   "source": [
    "Machine learning models require numerical input, so we need to convert `categorical variables` (sex, food ...etc) into a `numerical format`. This process is known as encoding."
   ]
  },
  {
   "cell_type": "code",
   "execution_count": 130,
   "metadata": {},
   "outputs": [],
   "source": [
    "# Write a code that encodes the categorical columns in the train_set and test_set using (LabelEncoder)\n"
   ]
  },
  {
   "cell_type": "markdown",
   "metadata": {},
   "source": [
    "- Encoding the target variable"
   ]
  },
  {
   "cell_type": "markdown",
   "metadata": {},
   "source": [
    "We will also encode the target varibale `status` in the train_set, for that we will assign `0 to Undead` and `1 to Humans`"
   ]
  },
  {
   "cell_type": "code",
   "execution_count": 132,
   "metadata": {},
   "outputs": [],
   "source": [
    "# Write you code here...\n"
   ]
  },
  {
   "cell_type": "markdown",
   "metadata": {},
   "source": [
    "- Logistic Regression Model"
   ]
  },
  {
   "cell_type": "markdown",
   "metadata": {},
   "source": [
    "In this code snippet, we define a `logistic regression` model. This model is a popular choice for `binary classification` tasks, where the target variable has two possible outcomes. This model calculates the probability that a given input belongs to a particular class and makes predictions based on these probabilities.\n",
    "`StandardScaler` ensures that all features are on the same scale, which can improve the performance of the logistic regression algorithm."
   ]
  },
  {
   "cell_type": "code",
   "execution_count": 133,
   "metadata": {},
   "outputs": [],
   "source": [
    "model = Pipeline([\n",
    "    ('scaler', StandardScaler()),\n",
    "    ('classifier', LogisticRegression())\n",
    "])"
   ]
  },
  {
   "cell_type": "markdown",
   "metadata": {},
   "source": [
    "- Training the model"
   ]
  },
  {
   "cell_type": "markdown",
   "metadata": {},
   "source": [
    "Now we move to training, you are tasked to train the model that takes `X`, `y` as arguments!"
   ]
  },
  {
   "cell_type": "code",
   "execution_count": 1,
   "metadata": {},
   "outputs": [],
   "source": [
    "# Write you code here...\n"
   ]
  },
  {
   "cell_type": "markdown",
   "metadata": {},
   "source": [
    "- Predict the status values of the test set"
   ]
  },
  {
   "cell_type": "markdown",
   "metadata": {},
   "source": [
    "Now that we have trained our machine learning model using the training set, the next step is to utilize this trained model to predict the status values of the test set. The test set contains a similar set of features as the training set but lacks the corresponding status values, which are the target variables we aim to predict."
   ]
  },
  {
   "cell_type": "code",
   "execution_count": 135,
   "metadata": {},
   "outputs": [],
   "source": [
    "# Calculate the probability of being a human for each row in the test set\n",
    "proba = model.predict_proba(X_test)[:,1]\n",
    "\n",
    "# Predecit the status of each row in the test set\n",
    "prediction = model.predict(X_test)"
   ]
  },
  {
   "cell_type": "markdown",
   "metadata": {},
   "source": [
    "- Visualization of calculated probabilities"
   ]
  },
  {
   "cell_type": "code",
   "execution_count": 136,
   "metadata": {},
   "outputs": [
    {
     "data": {
      "image/png": "[encoded data removed]",
      "text/plain": [
       "<Figure size 640x480 with 1 Axes>"
      ]
     },
     "metadata": {},
     "output_type": "display_data"
    }
   ],
   "source": [
    "plt.hist(proba, bins=20, color='skyblue', edgecolor='black')\n",
    "plt.show()"
   ]
  },
  {
   "cell_type": "markdown",
   "metadata": {},
   "source": [
    "- Create a DataFrame containing predictions and probabilities"
   ]
  },
  {
   "cell_type": "code",
   "execution_count": 137,
   "metadata": {},
   "outputs": [],
   "source": [
    "test = pd.DataFrame({'prediction': prediction, 'human probability': proba})"
   ]
  },
  {
   "cell_type": "markdown",
   "metadata": {},
   "source": [
    "## Final destination"
   ]
  },
  {
   "cell_type": "markdown",
   "metadata": {},
   "source": [
    "After building a model that can predict whether people are humans or undead, you must use this model to decide which individuals you will attempt to establish contact with!  `It's crucial to note that the model's predictions are not 100% accurate, and some misclassifications are inevitable!`\n",
    "</br></br>\n",
    "<b>Again, you have to contact with `at least 10 humans and exactly 0 undead` to collect the flag. You do not have to contact with all the humans, `10 is sufficient`.</b>"
   ]
  },
  {
   "cell_type": "code",
   "execution_count": 2,
   "metadata": {},
   "outputs": [],
   "source": [
    "# Write your code here...\n"
   ]
  }
 ],
 "metadata": {
  "kernelspec": {
   "display_name": "Python 3",
   "language": "python",
   "name": "python3"
  },
  "language_info": {
   "codemirror_mode": {
    "name": "ipython",
    "version": 3
   },
   "file_extension": ".py",
   "mimetype": "text/x-python",
   "name": "python",
   "nbconvert_exporter": "python",
   "pygments_lexer": "ipython3",
   "version": "3.12.1"
  }
 },
 "nbformat": 4,
 "nbformat_minor": 2
}
